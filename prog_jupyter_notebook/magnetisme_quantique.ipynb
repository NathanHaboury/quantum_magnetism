{
 "cells": [
  {
   "cell_type": "code",
   "execution_count": 88,
   "metadata": {},
   "outputs": [],
   "source": [
    "import numpy as np\n",
    "import matplotlib.pyplot as plt\n",
    "import scipy.stats as spst\n",
    "from numpy.linalg import inv\n",
    "from numpy.linalg import eigvals\n",
    "from numpy.linalg import eig\n",
    "from itertools import product"
   ]
  },
  {
   "cell_type": "code",
   "execution_count": 31,
   "metadata": {},
   "outputs": [
    {
     "data": {
      "text/plain": [
       "'11'"
      ]
     },
     "execution_count": 31,
     "metadata": {},
     "output_type": "execute_result"
    }
   ],
   "source": [
    "\"{0:b}\".format(3)\n"
   ]
  },
  {
   "cell_type": "code",
   "execution_count": 32,
   "metadata": {},
   "outputs": [
    {
     "name": "stdout",
     "output_type": "stream",
     "text": [
      "The binary number for the state 11000 is 24\n"
     ]
    }
   ],
   "source": [
    "#transform states as binary number.\n",
    "state = '11000'\n",
    "basis = int (state,2)  # base 2 pour binaire \n",
    "print(\"The binary number for the state\",state ,\"is\" ,basis)"
   ]
  },
  {
   "cell_type": "code",
   "execution_count": 33,
   "metadata": {},
   "outputs": [],
   "source": [
    "# Count set\n",
    "# bits in an integer \n",
    " \n",
    "# Function to get no of set bits in binary\n",
    "def  countSetBits(n):\n",
    "    count = 0\n",
    "    while (n):\n",
    "        count += n & 1\n",
    "        n >>= 1\n",
    "    return count"
   ]
  },
  {
   "cell_type": "markdown",
   "metadata": {},
   "source": [
    "Generate the basis "
   ]
  },
  {
   "cell_type": "code",
   "execution_count": 34,
   "metadata": {},
   "outputs": [],
   "source": [
    "def makeSzBasis(L):\n",
    "    basisSzList = [[] for i in range(-L,L+1,2)] #S_z can range from -L to L,\n",
    "    \n",
    "    for i in range(2**L): #2^L configurations\n",
    "        Sz_i = countSetBits(i) \n",
    "        basisSzList[(Sz_i)].append(i) \n",
    "    return basisSzList "
   ]
  },
  {
   "cell_type": "code",
   "execution_count": 35,
   "metadata": {},
   "outputs": [
    {
     "name": "stdout",
     "output_type": "stream",
     "text": [
      "number of spins = 2\n",
      "basis size = 4\n"
     ]
    },
    {
     "data": {
      "image/png": "[encoded data removed]",
      "text/plain": [
       "<Figure size 432x288 with 1 Axes>"
      ]
     },
     "metadata": {
      "needs_background": "light"
     },
     "output_type": "display_data"
    }
   ],
   "source": [
    "L = 2 #number of spin  \n",
    "basisSzList = makeSzBasis(L)\n",
    "Sz_data  = []\n",
    "number_of_elements = []\n",
    "\n",
    "print(\"number of spins =\",L)\n",
    "print(\"basis size =\",2**L)\n",
    "\n",
    "for i in range(len(basisSzList)):\n",
    "    Sz_data.append(-L+2*i)\n",
    "    number_of_elements.append(len(basisSzList[i]))\n",
    "plt.bar(Sz_data,number_of_elements,label=\"L=\"+str(L))\n",
    "\n",
    "plt.xlabel(r\"$S_z$\",fontsize=15)\n",
    "plt.ylabel(\"number of elements\",fontsize=15)\n",
    "plt.legend()\n",
    "plt.show()\n",
    "\n",
    "\n"
   ]
  },
  {
   "cell_type": "code",
   "execution_count": 36,
   "metadata": {},
   "outputs": [
    {
     "data": {
      "text/plain": [
       "range(0, 3)"
      ]
     },
     "execution_count": 36,
     "metadata": {},
     "output_type": "execute_result"
    }
   ],
   "source": [
    "range(len(basisSzList))"
   ]
  },
  {
   "cell_type": "code",
   "execution_count": 37,
   "metadata": {},
   "outputs": [
    {
     "name": "stdout",
     "output_type": "stream",
     "text": [
      "[-2, 0, 2]\n"
     ]
    }
   ],
   "source": [
    "print (Sz_data)"
   ]
  },
  {
   "cell_type": "code",
   "execution_count": 38,
   "metadata": {},
   "outputs": [
    {
     "name": "stdout",
     "output_type": "stream",
     "text": [
      "[[0], [1, 2], [3]]\n"
     ]
    }
   ],
   "source": [
    "print (basisSzList)"
   ]
  },
  {
   "cell_type": "markdown",
   "metadata": {},
   "source": [
    "Generate the Hamiltonian "
   ]
  },
  {
   "cell_type": "code",
   "execution_count": 39,
   "metadata": {},
   "outputs": [],
   "source": [
    "#conditons aux limites periodiques cercle  ecrire H en fonction de sz s+ et s-\n",
    "#regrouper les vecteur propre par sZ egaux (fait)\n",
    "#que fait H sur tout les spins up ou tout les spin down \n",
    "#quelle serait les etat propre dans un secteur ou l'on a un seul spin \n",
    "#commutateur de sz avec H\n",
    "# tracer aimentation moyenne"
   ]
  },
  {
   "cell_type": "code",
   "execution_count": 40,
   "metadata": {},
   "outputs": [
    {
     "name": "stdout",
     "output_type": "stream",
     "text": [
      "[0, 1, 2, 3]\n",
      "['0', '1', '10', '11']\n",
      "[0, 1, 10, 11]\n",
      "[ 0  1 10 11]\n"
     ]
    }
   ],
   "source": [
    "flat_1 = [x for l in basisSzList for x in l]\n",
    "print (flat_1)\n",
    "spin_string = []\n",
    "for i in range(len(flat_1)):\n",
    "    spin_string.append(\"{0:b}\".format(flat_1[i]))\n",
    "print (spin_string)\n",
    "#convert all strings in list of integers \n",
    "for i in range(0, len(spin_string)): \n",
    "    spin_string[i] = int(spin_string[i]) \n",
    "print (spin_string)\n",
    "spin = np.array(spin_string)\n",
    "print (spin)"
   ]
  },
  {
   "cell_type": "code",
   "execution_count": 41,
   "metadata": {},
   "outputs": [
    {
     "name": "stdout",
     "output_type": "stream",
     "text": [
      "[[0, 1], [10, 11]]\n"
     ]
    }
   ],
   "source": [
    "for a in range (L):\n",
    "    spin_i = [[] for x in range(L)]\n",
    "for i in range (L):\n",
    "    if i < 1 :\n",
    "        spin_i[i].append(0)\n",
    "    for j in range(len(spin)) :\n",
    "        if 10**(i) <= spin[j] < 10** (i+1):\n",
    "            spin_i[i].append(spin[j])\n",
    "        \n",
    "print (spin_i)\n",
    "\n"
   ]
  },
  {
   "cell_type": "code",
   "execution_count": 42,
   "metadata": {},
   "outputs": [],
   "source": [
    "def Matrix_S_z(L,basisSzList):\n",
    "    #regroupement des liste des spins en une liste\n",
    "    flat_1 = [x for l in basisSzList for x in l]\n",
    "    #convertir liste en binaire\n",
    "    spin_string = []\n",
    "    for i in range(len(flat_1)):\n",
    "        spin_string.append(\"{0:b}\".format(flat_1[i]))\n",
    "    #ajout de 0 au elements manquant \n",
    "    for k in range(len(spin_string)):\n",
    "        while len(spin_string[k])< len(spin_string[-1]) :\n",
    "            spin_string[k]='0'+spin_string[k]\n",
    "    # convertir list of string en array\n",
    "    spin_i=[]\n",
    "    for k in range(L) :\n",
    "        spink=np.array([])\n",
    "        for h in range(len(spin_string)):\n",
    "            spink=np.append(spink,int(spin_string[h][k]))\n",
    "        spin_i.append(spink) \n",
    "    S_z=[]\n",
    "    \n",
    "    #creation de la matrice identité \n",
    "    for i in range(L):\n",
    "\n",
    "        S_i = np.identity(2**L)\n",
    "    #si spin = 0 S_i jj = -1/2 \n",
    "    #si spin = 1 S_i jj = 1/2 \n",
    "    \n",
    "        for k in range(len(spin_i[i])):\n",
    "            if spin_i[i][k] == 0.:\n",
    "                S_i[k][k] = S_i[k][k] * (-1/2)\n",
    "            else: \n",
    "                S_i[k][k] = S_i[k][k] * (1/2)\n",
    "    \n",
    "\n",
    "        S_z.append(S_i)\n",
    "        \n",
    "        #S_z = np.matrix(S_z)\n",
    "    return S_z\n",
    "\n"
   ]
  },
  {
   "cell_type": "code",
   "execution_count": 77,
   "metadata": {},
   "outputs": [
    {
     "data": {
      "text/plain": [
       "[array([[-0.5,  0. ,  0. ,  0. ,  0. ,  0. ,  0. ,  0. ],\n",
       "        [ 0. , -0.5,  0. ,  0. ,  0. ,  0. ,  0. ,  0. ],\n",
       "        [ 0. ,  0. , -0.5,  0. ,  0. ,  0. ,  0. ,  0. ],\n",
       "        [ 0. ,  0. ,  0. ,  0.5,  0. ,  0. ,  0. ,  0. ],\n",
       "        [ 0. ,  0. ,  0. ,  0. , -0.5,  0. ,  0. ,  0. ],\n",
       "        [ 0. ,  0. ,  0. ,  0. ,  0. ,  0.5,  0. ,  0. ],\n",
       "        [ 0. ,  0. ,  0. ,  0. ,  0. ,  0. ,  0.5,  0. ],\n",
       "        [ 0. ,  0. ,  0. ,  0. ,  0. ,  0. ,  0. ,  0.5]]),\n",
       " array([[-0.5,  0. ,  0. ,  0. ,  0. ,  0. ,  0. ,  0. ],\n",
       "        [ 0. , -0.5,  0. ,  0. ,  0. ,  0. ,  0. ,  0. ],\n",
       "        [ 0. ,  0. ,  0.5,  0. ,  0. ,  0. ,  0. ,  0. ],\n",
       "        [ 0. ,  0. ,  0. , -0.5,  0. ,  0. ,  0. ,  0. ],\n",
       "        [ 0. ,  0. ,  0. ,  0. ,  0.5,  0. ,  0. ,  0. ],\n",
       "        [ 0. ,  0. ,  0. ,  0. ,  0. , -0.5,  0. ,  0. ],\n",
       "        [ 0. ,  0. ,  0. ,  0. ,  0. ,  0. ,  0.5,  0. ],\n",
       "        [ 0. ,  0. ,  0. ,  0. ,  0. ,  0. ,  0. ,  0.5]]),\n",
       " array([[-0.5,  0. ,  0. ,  0. ,  0. ,  0. ,  0. ,  0. ],\n",
       "        [ 0. ,  0.5,  0. ,  0. ,  0. ,  0. ,  0. ,  0. ],\n",
       "        [ 0. ,  0. , -0.5,  0. ,  0. ,  0. ,  0. ,  0. ],\n",
       "        [ 0. ,  0. ,  0. , -0.5,  0. ,  0. ,  0. ,  0. ],\n",
       "        [ 0. ,  0. ,  0. ,  0. ,  0.5,  0. ,  0. ,  0. ],\n",
       "        [ 0. ,  0. ,  0. ,  0. ,  0. ,  0.5,  0. ,  0. ],\n",
       "        [ 0. ,  0. ,  0. ,  0. ,  0. ,  0. , -0.5,  0. ],\n",
       "        [ 0. ,  0. ,  0. ,  0. ,  0. ,  0. ,  0. ,  0.5]])]"
      ]
     },
     "execution_count": 77,
     "metadata": {},
     "output_type": "execute_result"
    }
   ],
   "source": [
    "L=3\n",
    "Matrix_S_z(L,makeSzBasis(L))"
   ]
  },
  {
   "cell_type": "code",
   "execution_count": 44,
   "metadata": {},
   "outputs": [],
   "source": [
    "#matrices S+_j*S-_j+1\n",
    "    #creation annihilation\n",
    "def Matrix_S_plus_moins(L,basisSzList):\n",
    "    flat_1 = [x for l in basisSzList for x in l]\n",
    "    \n",
    "    spin_string = []\n",
    "    for i in range(len(flat_1)):\n",
    "        spin_string.append(\"{0:b}\".format(flat_1[i]))\n",
    "    for k in range(len(spin_string)):\n",
    "        while len(spin_string[k])< len(spin_string[-1]) :\n",
    "            spin_string[k]='0'+spin_string[k]\n",
    "    spin_i=[]\n",
    "    for k in range(L) :\n",
    "        spink=np.array([])\n",
    "        for h in range(len(spin_string)):\n",
    "            spink=np.append(spink,int(spin_string[h][k]))\n",
    "        spin_i.append(spink) \n",
    "    \n",
    "\n",
    "    #S+_j*S-_j+1\n",
    "    #creation annihilation\n",
    "    S_c_a = []   \n",
    "    \n",
    "    S_i = np.zeros((2**L,2**L))\n",
    "    \n",
    "\n",
    "    for i in range (L-1):\n",
    "        for j in range(len(spin_i[0])):\n",
    "            if spin_i[i][j] == 0. and spin_i[i+1][j] == 1:\n",
    "                    S_i[j+1][j] = S_i[j+1][j] + 1\n",
    "    \n",
    "    S_c_a.append(S_i)\n",
    "    S_c_a = np.asarray(S_c_a)\n",
    "\n",
    "    return S_c_a"
   ]
  },
  {
   "cell_type": "code",
   "execution_count": 45,
   "metadata": {},
   "outputs": [
    {
     "data": {
      "text/plain": [
       "array([[[0., 0., 0., 0.],\n",
       "        [0., 0., 0., 0.],\n",
       "        [0., 1., 0., 0.],\n",
       "        [0., 0., 0., 0.]]])"
      ]
     },
     "execution_count": 45,
     "metadata": {},
     "output_type": "execute_result"
    }
   ],
   "source": [
    "L=2\n",
    "Matrix_S_plus_moins(L,makeSzBasis(L))"
   ]
  },
  {
   "cell_type": "code",
   "execution_count": 46,
   "metadata": {},
   "outputs": [],
   "source": [
    "#matrices  S-_j*S+_j+1\n",
    "    #annihilation creation\n",
    "def Matrix_S_moins_plus(L,basisSzList):\n",
    "    flat_1 = [x for l in basisSzList for x in l]\n",
    "    \n",
    "    spin_string = []\n",
    "    for i in range(len(flat_1)):\n",
    "        spin_string.append(\"{0:b}\".format(flat_1[i]))\n",
    "    for k in range(len(spin_string)):\n",
    "        while len(spin_string[k])< len(spin_string[-1]) :\n",
    "            spin_string[k]='0'+spin_string[k]\n",
    "    spin_i=[]\n",
    "    for k in range(L) :\n",
    "        spink=np.array([])\n",
    "        for h in range(len(spin_string)):\n",
    "            spink=np.append(spink,int(spin_string[h][k]))\n",
    "        spin_i.append(spink) \n",
    "    \n",
    "\n",
    "     #S-_j*S+_j+1\n",
    "    #annihilation creation\n",
    "    S_a_c = []  \n",
    "\n",
    "    \n",
    "    S_i = np.zeros((2**L,2**L))\n",
    "\n",
    "\n",
    "    \n",
    "    for i in range (L-1):\n",
    "        for j in range(len(spin_i[0])):\n",
    "            if spin_i[i][j] == 1. and spin_i[i+1][j] == 0:\n",
    "                S_i[j-1][j] = S_i[j-1][j] + 1\n",
    "\n",
    "    S_a_c.append(S_i)\n",
    "    S_a_c = np.asarray(S_a_c)\n",
    "\n",
    "    return S_a_c "
   ]
  },
  {
   "cell_type": "code",
   "execution_count": 47,
   "metadata": {},
   "outputs": [
    {
     "data": {
      "text/plain": [
       "array([[[0., 0., 0., 0.],\n",
       "        [0., 0., 1., 0.],\n",
       "        [0., 0., 0., 0.],\n",
       "        [0., 0., 0., 0.]]])"
      ]
     },
     "execution_count": 47,
     "metadata": {},
     "output_type": "execute_result"
    }
   ],
   "source": [
    "L=2\n",
    "Matrix_S_moins_plus(L,makeSzBasis(L))"
   ]
  },
  {
   "cell_type": "code",
   "execution_count": 112,
   "metadata": {},
   "outputs": [],
   "source": [
    "def Hamiltonian(Jz,Jxy,h,L,basisSzList,S_z,S_c_a,S_a_c):\n",
    "    A = []\n",
    "    for i in range(L):\n",
    "        a = (i+1) % L\n",
    "        H = Jxy/4 * (S_c_a + S_a_c)  + Jz * (S_z[i] * S_z[a]) -h * sum(S_z,0)\n",
    "        A.append(H)\n",
    "    \n",
    "    return  A\n",
    "\n"
   ]
  },
  {
   "cell_type": "code",
   "execution_count": 113,
   "metadata": {},
   "outputs": [
    {
     "name": "stdout",
     "output_type": "stream",
     "text": [
      "[array([[[ 0.25,  0.  ,  0.  ,  0.  ,  0.  ,  0.  ,  0.  ,  0.  ],\n",
      "        [ 0.  ,  0.25,  0.  ,  0.  ,  0.  ,  0.  ,  0.  ,  0.  ],\n",
      "        [ 0.  ,  0.  , -0.25,  0.  ,  0.  ,  0.  ,  0.  ,  0.  ],\n",
      "        [ 0.  ,  0.  ,  0.  , -0.25,  0.  ,  0.  ,  0.  ,  0.  ],\n",
      "        [ 0.  ,  0.  ,  0.  ,  0.  , -0.25,  0.  ,  0.  ,  0.  ],\n",
      "        [ 0.  ,  0.  ,  0.  ,  0.  ,  0.  , -0.25,  0.  ,  0.  ],\n",
      "        [ 0.  ,  0.  ,  0.  ,  0.  ,  0.  ,  0.  ,  0.25,  0.  ],\n",
      "        [ 0.  ,  0.  ,  0.  ,  0.  ,  0.  ,  0.  ,  0.  ,  0.25]]]), array([[[ 0.25,  0.  ,  0.  ,  0.  ,  0.  ,  0.  ,  0.  ,  0.  ],\n",
      "        [ 0.  , -0.25,  0.  ,  0.  ,  0.  ,  0.  ,  0.  ,  0.  ],\n",
      "        [ 0.  ,  0.  , -0.25,  0.  ,  0.  ,  0.  ,  0.  ,  0.  ],\n",
      "        [ 0.  ,  0.  ,  0.  ,  0.25,  0.  ,  0.  ,  0.  ,  0.  ],\n",
      "        [ 0.  ,  0.  ,  0.  ,  0.  ,  0.25,  0.  ,  0.  ,  0.  ],\n",
      "        [ 0.  ,  0.  ,  0.  ,  0.  ,  0.  , -0.25,  0.  ,  0.  ],\n",
      "        [ 0.  ,  0.  ,  0.  ,  0.  ,  0.  ,  0.  , -0.25,  0.  ],\n",
      "        [ 0.  ,  0.  ,  0.  ,  0.  ,  0.  ,  0.  ,  0.  ,  0.25]]]), array([[[ 0.25,  0.  ,  0.  ,  0.  ,  0.  ,  0.  ,  0.  ,  0.  ],\n",
      "        [ 0.  , -0.25,  0.  ,  0.  ,  0.  ,  0.  ,  0.  ,  0.  ],\n",
      "        [ 0.  ,  0.  ,  0.25,  0.  ,  0.  ,  0.  ,  0.  ,  0.  ],\n",
      "        [ 0.  ,  0.  ,  0.  , -0.25,  0.  ,  0.  ,  0.  ,  0.  ],\n",
      "        [ 0.  ,  0.  ,  0.  ,  0.  , -0.25,  0.  ,  0.  ,  0.  ],\n",
      "        [ 0.  ,  0.  ,  0.  ,  0.  ,  0.  ,  0.25,  0.  ,  0.  ],\n",
      "        [ 0.  ,  0.  ,  0.  ,  0.  ,  0.  ,  0.  , -0.25,  0.  ],\n",
      "        [ 0.  ,  0.  ,  0.  ,  0.  ,  0.  ,  0.  ,  0.  ,  0.25]]])]\n"
     ]
    }
   ],
   "source": [
    "L = 3\n",
    "Jz = 1\n",
    "Jxy = 0\n",
    "h = 0\n",
    "S_z = Matrix_S_z(L,makeSzBasis(L))\n",
    "S_c_a = Matrix_S_plus_moins(L,makeSzBasis(L))\n",
    "S_a_c = Matrix_S_moins_plus(L,makeSzBasis(L))\n",
    "H = Hamiltonian(Jz,Jxy,h,L,makeSzBasis(L),S_z,S_a_c,S_c_a)\n",
    "print (H)"
   ]
  },
  {
   "cell_type": "code",
   "execution_count": 50,
   "metadata": {},
   "outputs": [],
   "source": [
    "H = np.matrix(H)"
   ]
  },
  {
   "cell_type": "code",
   "execution_count": 51,
   "metadata": {},
   "outputs": [
    {
     "data": {
      "text/plain": [
       "matrix([[ 0.75,  0.  ,  0.  ,  0.  ],\n",
       "        [ 0.  , -0.75,  0.25,  0.  ],\n",
       "        [ 0.  ,  0.25,  0.25,  0.  ],\n",
       "        [ 0.  ,  0.  ,  0.  , -0.25]])"
      ]
     },
     "execution_count": 51,
     "metadata": {},
     "output_type": "execute_result"
    }
   ],
   "source": [
    "np.transpose(H)"
   ]
  },
  {
   "cell_type": "code",
   "execution_count": 52,
   "metadata": {},
   "outputs": [
    {
     "data": {
      "text/plain": [
       "array([ 0.30901699, -0.80901699,  0.75      , -0.25      ])"
      ]
     },
     "execution_count": 52,
     "metadata": {},
     "output_type": "execute_result"
    }
   ],
   "source": [
    "eigvals(H)\n"
   ]
  },
  {
   "cell_type": "code",
   "execution_count": 53,
   "metadata": {},
   "outputs": [
    {
     "name": "stdout",
     "output_type": "stream",
     "text": [
      "(array([ 0.30901699, -0.80901699,  0.75      , -0.25      ]), matrix([[ 0.        ,  0.        ,  1.        ,  0.        ],\n",
      "        [ 0.22975292,  0.97324899,  0.        ,  0.        ],\n",
      "        [ 0.97324899, -0.22975292,  0.        ,  0.        ],\n",
      "        [ 0.        ,  0.        ,  0.        ,  1.        ]]))\n"
     ]
    }
   ],
   "source": [
    "eigen = eig(H)\n",
    "print (eigen)"
   ]
  },
  {
   "cell_type": "code",
   "execution_count": 54,
   "metadata": {},
   "outputs": [
    {
     "name": "stdout",
     "output_type": "stream",
     "text": [
      "[[ 0.          0.          1.          0.        ]\n",
      " [ 0.22975292  0.97324899  0.          0.        ]\n",
      " [ 0.97324899 -0.22975292  0.          0.        ]\n",
      " [ 0.          0.          0.          1.        ]]\n"
     ]
    }
   ],
   "source": [
    "P = eigen [1]\n",
    "print (P)"
   ]
  },
  {
   "cell_type": "code",
   "execution_count": 55,
   "metadata": {},
   "outputs": [
    {
     "name": "stdout",
     "output_type": "stream",
     "text": [
      "[ 0.30901699 -0.80901699  0.75       -0.25      ]\n",
      "[[ 0.30901699  0.          0.          0.        ]\n",
      " [ 0.         -0.80901699  0.          0.        ]\n",
      " [ 0.          0.          0.75        0.        ]\n",
      " [ 0.          0.          0.         -0.25      ]]\n"
     ]
    }
   ],
   "source": [
    "D = eigen [0]\n",
    "print (D)\n",
    "D= np.diag (D)\n",
    "print (D)"
   ]
  },
  {
   "cell_type": "code",
   "execution_count": 56,
   "metadata": {},
   "outputs": [
    {
     "data": {
      "text/plain": [
       "matrix([[ 0.        ,  0.22975292,  0.97324899,  0.        ],\n",
       "        [ 0.        ,  0.97324899, -0.22975292,  0.        ],\n",
       "        [ 1.        ,  0.        ,  0.        ,  0.        ],\n",
       "        [ 0.        ,  0.        ,  0.        ,  1.        ]])"
      ]
     },
     "execution_count": 56,
     "metadata": {},
     "output_type": "execute_result"
    }
   ],
   "source": [
    "inv(P)"
   ]
  },
  {
   "cell_type": "code",
   "execution_count": 57,
   "metadata": {},
   "outputs": [
    {
     "name": "stdout",
     "output_type": "stream",
     "text": [
      "[[ 0.75  0.    0.    0.  ]\n",
      " [ 0.   -0.75  0.25  0.  ]\n",
      " [ 0.    0.25  0.25  0.  ]\n",
      " [ 0.    0.    0.   -0.25]]\n"
     ]
    }
   ],
   "source": [
    "M = P*D*inv(P)\n",
    "print (M)"
   ]
  },
  {
   "cell_type": "code",
   "execution_count": 58,
   "metadata": {},
   "outputs": [
    {
     "name": "stdout",
     "output_type": "stream",
     "text": [
      "[[ 0.00000000e+00  0.00000000e+00  0.00000000e+00  0.00000000e+00]\n",
      " [ 0.00000000e+00  1.11022302e-16  0.00000000e+00  0.00000000e+00]\n",
      " [ 0.00000000e+00 -5.55111512e-17  2.77555756e-17  0.00000000e+00]\n",
      " [ 0.00000000e+00  0.00000000e+00  0.00000000e+00  0.00000000e+00]]\n"
     ]
    }
   ],
   "source": [
    "diff = H - M\n",
    "print (diff)\n"
   ]
  },
  {
   "cell_type": "code",
   "execution_count": 59,
   "metadata": {},
   "outputs": [
    {
     "ename": "ValueError",
     "evalue": "shapes (4,4) and (8,) not aligned: 4 (dim 1) != 8 (dim 0)",
     "output_type": "error",
     "traceback": [
      "\u001b[0;31m---------------------------------------------------------------------------\u001b[0m",
      "\u001b[0;31mValueError\u001b[0m                                Traceback (most recent call last)",
      "\u001b[0;32m<ipython-input-59-4aca9992cd33>\u001b[0m in \u001b[0;36m<module>\u001b[0;34m\u001b[0m\n\u001b[1;32m      1\u001b[0m \u001b[0mx\u001b[0m \u001b[0;34m=\u001b[0m \u001b[0mnp\u001b[0m\u001b[0;34m.\u001b[0m\u001b[0marray\u001b[0m\u001b[0;34m(\u001b[0m\u001b[0;34m[\u001b[0m\u001b[0;36m0\u001b[0m\u001b[0;34m,\u001b[0m\u001b[0;36m1\u001b[0m\u001b[0;34m,\u001b[0m\u001b[0;36m0\u001b[0m\u001b[0;34m,\u001b[0m\u001b[0;36m0\u001b[0m\u001b[0;34m,\u001b[0m\u001b[0;36m0\u001b[0m\u001b[0;34m,\u001b[0m\u001b[0;36m0\u001b[0m\u001b[0;34m,\u001b[0m\u001b[0;36m0\u001b[0m\u001b[0;34m,\u001b[0m\u001b[0;36m0\u001b[0m\u001b[0;34m]\u001b[0m\u001b[0;34m)\u001b[0m\u001b[0;34m\u001b[0m\u001b[0;34m\u001b[0m\u001b[0m\n\u001b[0;32m----> 2\u001b[0;31m \u001b[0ma\u001b[0m \u001b[0;34m=\u001b[0m \u001b[0mH\u001b[0m\u001b[0;34m.\u001b[0m\u001b[0mdot\u001b[0m\u001b[0;34m(\u001b[0m\u001b[0mx\u001b[0m\u001b[0;34m)\u001b[0m\u001b[0;34m\u001b[0m\u001b[0;34m\u001b[0m\u001b[0m\n\u001b[0m\u001b[1;32m      3\u001b[0m \u001b[0mprint\u001b[0m \u001b[0;34m(\u001b[0m\u001b[0ma\u001b[0m\u001b[0;34m)\u001b[0m\u001b[0;34m\u001b[0m\u001b[0;34m\u001b[0m\u001b[0m\n",
      "\u001b[0;31mValueError\u001b[0m: shapes (4,4) and (8,) not aligned: 4 (dim 1) != 8 (dim 0)"
     ]
    }
   ],
   "source": [
    "x = np.array([0,1,0,0,0,0,0,0])\n",
    "a = H.dot(x) \n",
    "print (a)"
   ]
  },
  {
   "cell_type": "code",
   "execution_count": null,
   "metadata": {},
   "outputs": [],
   "source": []
  },
  {
   "cell_type": "code",
   "execution_count": 72,
   "metadata": {},
   "outputs": [
    {
     "name": "stdout",
     "output_type": "stream",
     "text": [
      "0\n"
     ]
    }
   ],
   "source": [
    "L = 2 \n",
    "for i in range (L-1):\n",
    "    print (i)"
   ]
  },
  {
   "cell_type": "code",
   "execution_count": null,
   "metadata": {},
   "outputs": [],
   "source": []
  }
 ],
 "metadata": {
  "kernelspec": {
   "display_name": "Python 3",
   "language": "python",
   "name": "python3"
  },
  "language_info": {
   "codemirror_mode": {
    "name": "ipython",
    "version": 3
   },
   "file_extension": ".py",
   "mimetype": "text/x-python",
   "name": "python",
   "nbconvert_exporter": "python",
   "pygments_lexer": "ipython3",
   "version": "3.7.4"
  }
 },
 "nbformat": 4,
 "nbformat_minor": 4
}
